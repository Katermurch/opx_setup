{
 "cells": [
  {
   "cell_type": "code",
   "execution_count": 1,
   "id": "1294d203",
   "metadata": {},
   "outputs": [
    {
     "name": "stdout",
     "output_type": "stream",
     "text": [
      "2025-06-02 16:03:47,090 - qm - INFO     - Starting session: 6e092db6-5b8f-4c56-a3db-75e197462aa8\n",
      "resonator_IF_q1: 102640000, resonator_IF_q2: 30700000\n"
     ]
    }
   ],
   "source": [
    "from qm import QuantumMachinesManager\n",
    "from qm.qua import *\n",
    "from configuration import *\n",
    "import time"
   ]
  },
  {
   "cell_type": "code",
   "execution_count": 2,
   "id": "e9e7fe73",
   "metadata": {},
   "outputs": [
    {
     "name": "stdout",
     "output_type": "stream",
     "text": [
      "2025-06-02 16:03:57,643 - qm - INFO     - Performing health check\n",
      "2025-06-02 16:03:57,651 - qm - INFO     - Health check passed\n",
      "2025-06-02 16:03:57,792 - qm - WARNING  - Open QM ended with warning 0: Opening a new Quantum Machine and closing Quantum Machines: \n",
      "2025-06-02 16:03:57,793 - qm - WARNING  - Open QM ended with warning 0: Quantum Machine qm-1748898112151 is canceling running job 1748544540202.\n",
      "2025-06-02 16:03:57,806 - qm - INFO     - Sending program to QOP for compilation\n",
      "2025-06-02 16:03:57,873 - qm - INFO     - Executing program\n"
     ]
    }
   ],
   "source": [
    "##################\n",
    "#   Parameters   #\n",
    "##################\n",
    "# Parameters Definition\n",
    "element = \"q2_xy\"\n",
    "###################\n",
    "# The QUA program #\n",
    "###################\n",
    "with program() as cw_output:\n",
    "    with infinite_loop_():\n",
    "        # It is best to calibrate LO leakage first and without any power played (cf. note below)\n",
    "        play(\"cw\", element)\n",
    "\n",
    "#####################################\n",
    "#  Open Communication with the QOP  #\n",
    "#####################################\n",
    "qmm = QuantumMachinesManager(host=qop_ip, port=qop_port, cluster_name=cluster_name, octave=octave_config)\n",
    "qm = qmm.open_qm(config)\n",
    "\n",
    "job = qm.execute(cw_output)\n",
    "\n",
    "# When done, the halt command can be called an"
   ]
  },
  {
   "cell_type": "code",
   "execution_count": 52,
   "id": "14e0845f",
   "metadata": {},
   "outputs": [],
   "source": [
    "# qm.set_output_dc_offset_by_element('q2_xy', ('I', 'Q'), (-0.0214,-0.0195))\n",
    "qm.set_mixer_correction('mixer_qubit_q2', int(qubit_IF_q2), int(qubit_LO_q2), IQ_imbalance(-0.009,1.475))\n"
   ]
  },
  {
   "cell_type": "code",
   "execution_count": 10,
   "id": "8fbc5e32",
   "metadata": {},
   "outputs": [
    {
     "name": "stdout",
     "output_type": "stream",
     "text": [
      "Set I to -0.03, Q to -0.025\n",
      "Set I to -0.0285, Q to -0.025\n"
     ]
    },
    {
     "ename": "KeyboardInterrupt",
     "evalue": "",
     "output_type": "error",
     "traceback": [
      "\u001b[1;31m---------------------------------------------------------------------------\u001b[0m",
      "\u001b[1;31mKeyboardInterrupt\u001b[0m                         Traceback (most recent call last)",
      "Cell \u001b[1;32mIn[10], line 6\u001b[0m\n\u001b[0;32m      4\u001b[0m I \u001b[38;5;241m=\u001b[39m np\u001b[38;5;241m.\u001b[39mround(I, \u001b[38;5;241m5\u001b[39m)\n\u001b[0;32m      5\u001b[0m qm\u001b[38;5;241m.\u001b[39mset_output_dc_offset_by_element(\u001b[38;5;124m'\u001b[39m\u001b[38;5;124mq2_xy\u001b[39m\u001b[38;5;124m'\u001b[39m, (\u001b[38;5;124m'\u001b[39m\u001b[38;5;124mI\u001b[39m\u001b[38;5;124m'\u001b[39m, \u001b[38;5;124m'\u001b[39m\u001b[38;5;124mQ\u001b[39m\u001b[38;5;124m'\u001b[39m), (I, Q))\n\u001b[1;32m----> 6\u001b[0m time\u001b[38;5;241m.\u001b[39msleep(\u001b[38;5;241m1\u001b[39m)\n\u001b[0;32m      8\u001b[0m \u001b[38;5;28mprint\u001b[39m(\u001b[38;5;124mf\u001b[39m\u001b[38;5;124m\"\u001b[39m\u001b[38;5;124mSet I to \u001b[39m\u001b[38;5;132;01m{\u001b[39;00mI\u001b[38;5;132;01m}\u001b[39;00m\u001b[38;5;124m, Q to \u001b[39m\u001b[38;5;132;01m{\u001b[39;00mQ\u001b[38;5;132;01m}\u001b[39;00m\u001b[38;5;124m\"\u001b[39m)\n",
      "\u001b[1;31mKeyboardInterrupt\u001b[0m: "
     ]
    }
   ],
   "source": [
    "I_vals= np.linspace(-0.030, 0.00, 21)\n",
    "Q = -0.025\n",
    "for I in I_vals:\n",
    "    I = np.round(I, 5)\n",
    "    qm.set_output_dc_offset_by_element('q2_xy', ('I', 'Q'), (I, Q))\n",
    "    time.sleep(1)\n",
    "\n",
    "    print(f\"Set I to {I}, Q to {Q}\")"
   ]
  },
  {
   "cell_type": "code",
   "execution_count": 50,
   "id": "bfae6344",
   "metadata": {},
   "outputs": [
    {
     "name": "stdout",
     "output_type": "stream",
     "text": [
      "Set g to -0.03, phi to 1.47\n",
      "Set g to -0.0285, phi to 1.47\n",
      "Set g to -0.027, phi to 1.47\n",
      "Set g to -0.0255, phi to 1.47\n",
      "Set g to -0.024, phi to 1.47\n",
      "Set g to -0.0225, phi to 1.47\n",
      "Set g to -0.021, phi to 1.47\n",
      "Set g to -0.0195, phi to 1.47\n",
      "Set g to -0.018, phi to 1.47\n",
      "Set g to -0.0165, phi to 1.47\n",
      "Set g to -0.015, phi to 1.47\n",
      "Set g to -0.0135, phi to 1.47\n",
      "Set g to -0.012, phi to 1.47\n",
      "Set g to -0.0105, phi to 1.47\n",
      "Set g to -0.009, phi to 1.47\n",
      "Set g to -0.0075, phi to 1.47\n",
      "Set g to -0.006, phi to 1.47\n",
      "Set g to -0.0045, phi to 1.47\n",
      "Set g to -0.003, phi to 1.47\n"
     ]
    },
    {
     "ename": "KeyboardInterrupt",
     "evalue": "",
     "output_type": "error",
     "traceback": [
      "\u001b[1;31m---------------------------------------------------------------------------\u001b[0m",
      "\u001b[1;31mKeyboardInterrupt\u001b[0m                         Traceback (most recent call last)",
      "Cell \u001b[1;32mIn[50], line 6\u001b[0m\n\u001b[0;32m      4\u001b[0m g \u001b[38;5;241m=\u001b[39m np\u001b[38;5;241m.\u001b[39mround(g, \u001b[38;5;241m5\u001b[39m)\n\u001b[0;32m      5\u001b[0m qm\u001b[38;5;241m.\u001b[39mset_mixer_correction(\u001b[38;5;124m'\u001b[39m\u001b[38;5;124mmixer_qubit_q2\u001b[39m\u001b[38;5;124m'\u001b[39m, \u001b[38;5;28mint\u001b[39m(qubit_IF_q2), \u001b[38;5;28mint\u001b[39m(qubit_LO_q2), IQ_imbalance(g, phi))\n\u001b[1;32m----> 6\u001b[0m time\u001b[38;5;241m.\u001b[39msleep(\u001b[38;5;241m1\u001b[39m)\n\u001b[0;32m      8\u001b[0m \u001b[38;5;28mprint\u001b[39m(\u001b[38;5;124mf\u001b[39m\u001b[38;5;124m\"\u001b[39m\u001b[38;5;124mSet g to \u001b[39m\u001b[38;5;132;01m{\u001b[39;00mg\u001b[38;5;132;01m}\u001b[39;00m\u001b[38;5;124m, phi to \u001b[39m\u001b[38;5;132;01m{\u001b[39;00mphi\u001b[38;5;132;01m}\u001b[39;00m\u001b[38;5;124m\"\u001b[39m)\n",
      "\u001b[1;31mKeyboardInterrupt\u001b[0m: "
     ]
    }
   ],
   "source": [
    "g_vals = np.linspace(-0.030,0.00, 21)\n",
    "phi = 1.47\n",
    "for g in g_vals:\n",
    "    g = np.round(g, 5)\n",
    "    qm.set_mixer_correction('mixer_qubit_q2', int(qubit_IF_q2), int(qubit_LO_q2), IQ_imbalance(g, phi))\n",
    "    time.sleep(1)\n",
    "\n",
    "    print(f\"Set g to {g}, phi to {phi}\")"
   ]
  },
  {
   "cell_type": "code",
   "execution_count": 51,
   "id": "5139c310",
   "metadata": {},
   "outputs": [
    {
     "name": "stdout",
     "output_type": "stream",
     "text": [
      "Set g to -0.009, phi to 1.4\n",
      "Set g to -0.009, phi to 1.405\n",
      "Set g to -0.009, phi to 1.41\n",
      "Set g to -0.009, phi to 1.415\n",
      "Set g to -0.009, phi to 1.42\n",
      "Set g to -0.009, phi to 1.425\n",
      "Set g to -0.009, phi to 1.43\n",
      "Set g to -0.009, phi to 1.435\n",
      "Set g to -0.009, phi to 1.44\n",
      "Set g to -0.009, phi to 1.445\n",
      "Set g to -0.009, phi to 1.45\n",
      "Set g to -0.009, phi to 1.455\n",
      "Set g to -0.009, phi to 1.46\n",
      "Set g to -0.009, phi to 1.465\n",
      "Set g to -0.009, phi to 1.47\n",
      "Set g to -0.009, phi to 1.475\n",
      "Set g to -0.009, phi to 1.48\n",
      "Set g to -0.009, phi to 1.485\n",
      "Set g to -0.009, phi to 1.49\n",
      "Set g to -0.009, phi to 1.495\n",
      "Set g to -0.009, phi to 1.5\n"
     ]
    }
   ],
   "source": [
    "phi_vals = np.linspace(1.4,1.5, 21)\n",
    "g = -0.009\n",
    "for phi in phi_vals:\n",
    "    phi = np.round(phi, 4)\n",
    "    qm.set_mixer_correction('mixer_qubit_q2', int(qubit_IF_q2), int(qubit_LO_q2), IQ_imbalance(g, phi))\n",
    "    time.sleep(1)\n",
    "\n",
    "    print(f\"Set g to {g}, phi to {phi}\")"
   ]
  },
  {
   "cell_type": "code",
   "execution_count": 18,
   "id": "9a41e2ab",
   "metadata": {},
   "outputs": [],
   "source": [
    "qmm.close_all_qms()"
   ]
  },
  {
   "cell_type": "code",
   "execution_count": 1,
   "id": "0dde40c3",
   "metadata": {},
   "outputs": [
    {
     "data": {
      "text/plain": [
       "'.'"
      ]
     },
     "execution_count": 1,
     "metadata": {},
     "output_type": "execute_result"
    }
   ],
   "source": [
    "import os \n",
    "import sys \n",
    "os.curdir"
   ]
  },
  {
   "cell_type": "code",
   "execution_count": null,
   "id": "edd54369",
   "metadata": {},
   "outputs": [
    {
     "ename": "AttributeError",
     "evalue": "module 'sys' has no attribute 'ap'",
     "output_type": "error",
     "traceback": [
      "\u001b[1;31m---------------------------------------------------------------------------\u001b[0m",
      "\u001b[1;31mAttributeError\u001b[0m                            Traceback (most recent call last)",
      "Cell \u001b[1;32mIn[2], line 1\u001b[0m\n\u001b[1;32m----> 1\u001b[0m \u001b[43msys\u001b[49m\u001b[38;5;241;43m.\u001b[39;49m\u001b[43map\u001b[49m\n",
      "\u001b[1;31mAttributeError\u001b[0m: module 'sys' has no attribute 'ap'"
     ]
    }
   ],
   "source": [
    "sys.path.append()"
   ]
  },
  {
   "cell_type": "code",
   "execution_count": null,
   "id": "15a7596c",
   "metadata": {},
   "outputs": [],
   "source": []
  }
 ],
 "metadata": {
  "kernelspec": {
   "display_name": "Python 3",
   "language": "python",
   "name": "python3"
  },
  "language_info": {
   "codemirror_mode": {
    "name": "ipython",
    "version": 3
   },
   "file_extension": ".py",
   "mimetype": "text/x-python",
   "name": "python",
   "nbconvert_exporter": "python",
   "pygments_lexer": "ipython3",
   "version": "3.12.3"
  }
 },
 "nbformat": 4,
 "nbformat_minor": 5
}
