{
 "cells": [
  {
   "cell_type": "code",
   "execution_count": 11,
   "id": "b8bd1f3e",
   "metadata": {},
   "outputs": [],
   "source": [
    "import numpy as np \n",
    "import sys\n",
    "import os\n",
    "import JobQueue.manager as jq"
   ]
  },
  {
   "cell_type": "code",
   "execution_count": 15,
   "id": "82290aef",
   "metadata": {},
   "outputs": [
    {
     "name": "stdout",
     "output_type": "stream",
     "text": [
      "Done waiting.\n",
      "0\n",
      "1\n",
      "2\n",
      "3\n",
      "4\n",
      "5\n",
      "6\n",
      "7\n",
      "8\n",
      "9\n",
      "Job finished.\n"
     ]
    }
   ],
   "source": [
    "with jq.JobQueue('example', message = 'test') as jq:\n",
    "    for i in range(10):\n",
    "        print(i) \n",
    "        jq.update()"
   ]
  },
  {
   "cell_type": "markdown",
   "id": "1fea93f0",
   "metadata": {},
   "source": []
  }
 ],
 "metadata": {
  "kernelspec": {
   "display_name": "Test_Qualibrate",
   "language": "python",
   "name": "python3"
  },
  "language_info": {
   "codemirror_mode": {
    "name": "ipython",
    "version": 3
   },
   "file_extension": ".py",
   "mimetype": "text/x-python",
   "name": "python",
   "nbconvert_exporter": "python",
   "pygments_lexer": "ipython3",
   "version": "3.11.11"
  }
 },
 "nbformat": 4,
 "nbformat_minor": 5
}
